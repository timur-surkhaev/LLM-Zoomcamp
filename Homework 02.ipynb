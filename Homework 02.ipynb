{
 "cells": [
  {
   "cell_type": "markdown",
   "id": "65313f8f",
   "metadata": {},
   "source": [
    "# LLM Zoomcamp Homework 02"
   ]
  },
  {
   "cell_type": "markdown",
   "id": "4530d762",
   "metadata": {},
   "source": [
    "## Q1. Embedding the query\n",
    "\n",
    "Embed the query: <i>'I just discovered the course. Can I join now?'</i>. Use the `jinaai/jina-embeddings-v2-small-en` model.\n",
    "\n",
    "You should get a numpy array of size 512.\n",
    "\n",
    "What's the minimal value in this array?"
   ]
  },
  {
   "cell_type": "code",
   "execution_count": 1,
   "id": "5e43aebc",
   "metadata": {},
   "outputs": [],
   "source": [
    "# !pip install fastembed\n",
    "\n",
    "from fastembed import TextEmbedding\n",
    "model_handle = 'jinaai/jina-embeddings-v2-small-en'\n",
    "embedding_model = TextEmbedding(model_handle)"
   ]
  },
  {
   "cell_type": "code",
   "execution_count": 2,
   "id": "47aa3b0f",
   "metadata": {},
   "outputs": [
    {
     "name": "stdout",
     "output_type": "stream",
     "text": [
      "512\n"
     ]
    },
    {
     "data": {
      "text/plain": [
       "-0.12"
      ]
     },
     "execution_count": 2,
     "metadata": {},
     "output_type": "execute_result"
    }
   ],
   "source": [
    "query = 'I just discovered the course. Can I join now?'\n",
    "\n",
    "emb_query = list(embedding_model.embed(query))[0]\n",
    "print(len(emb_query))\n",
    "round(min(emb_query), 2)"
   ]
  },
  {
   "cell_type": "markdown",
   "id": "c7f266e5",
   "metadata": {},
   "source": [
    "## Q2. Cosine similarity with another vector\n",
    "\n"
   ]
  },
  {
   "cell_type": "code",
   "execution_count": 3,
   "id": "4edc89a8",
   "metadata": {},
   "outputs": [
    {
     "name": "stdout",
     "output_type": "stream",
     "text": [
      "1.0\n"
     ]
    },
    {
     "data": {
      "text/plain": [
       "1.0"
      ]
     },
     "execution_count": 3,
     "metadata": {},
     "output_type": "execute_result"
    }
   ],
   "source": [
    "import numpy as np\n",
    "\n",
    "print(np.linalg.norm(emb_query))\n",
    "round(emb_query.dot(emb_query), 5)"
   ]
  },
  {
   "cell_type": "code",
   "execution_count": 4,
   "id": "3e2396f5",
   "metadata": {},
   "outputs": [
    {
     "data": {
      "text/plain": [
       "0.9"
      ]
     },
     "execution_count": 4,
     "metadata": {},
     "output_type": "execute_result"
    }
   ],
   "source": [
    "doc = 'Can I still join the course after the start date?'\n",
    "emb_doc = list(embedding_model.embed(doc))[0]\n",
    "\n",
    "def cos_sim(v1, v2):\n",
    "    return (v1.dot(v2))/(np.linalg.norm(v1)*np.linalg.norm(v2))\n",
    "\n",
    "round(cos_sim(emb_query, emb_doc), 2)\n"
   ]
  },
  {
   "cell_type": "markdown",
   "id": "a608f6c6",
   "metadata": {},
   "source": [
    "## Q3. Ranking by cosine"
   ]
  },
  {
   "cell_type": "markdown",
   "id": "44331cb2",
   "metadata": {},
   "source": [
    "Compute the embeddings for the text field, and compute the cosine between the query vector and all the documents.\n",
    "\n",
    "What's the document index with the highest similarity? (Indexing starts from 0)"
   ]
  },
  {
   "cell_type": "code",
   "execution_count": 5,
   "id": "2a031c6a",
   "metadata": {},
   "outputs": [],
   "source": [
    "documents = [{'text': \"Yes, even if you don't register, you're still eligible to submit the homeworks.\\nBe aware, however, that there will be deadlines for turning in the final projects. So don't leave everything for the last minute.\",\n",
    "  'section': 'General course-related questions',\n",
    "  'question': 'Course - Can I still join the course after the start date?',\n",
    "  'course': 'data-engineering-zoomcamp'},\n",
    " {'text': 'Yes, we will keep all the materials after the course finishes, so you can follow the course at your own pace after it finishes.\\nYou can also continue looking at the homeworks and continue preparing for the next cohort. I guess you can also start working on your final capstone project.',\n",
    "  'section': 'General course-related questions',\n",
    "  'question': 'Course - Can I follow the course after it finishes?',\n",
    "  'course': 'data-engineering-zoomcamp'},\n",
    " {'text': \"The purpose of this document is to capture frequently asked technical questions\\nThe exact day and hour of the course will be 15th Jan 2024 at 17h00. The course will start with the first  “Office Hours'' live.1\\nSubscribe to course public Google Calendar (it works from Desktop only).\\nRegister before the course starts using this link.\\nJoin the course Telegram channel with announcements.\\nDon’t forget to register in DataTalks.Club's Slack and join the channel.\",\n",
    "  'section': 'General course-related questions',\n",
    "  'question': 'Course - When will the course start?',\n",
    "  'course': 'data-engineering-zoomcamp'},\n",
    " {'text': 'You can start by installing and setting up all the dependencies and requirements:\\nGoogle cloud account\\nGoogle Cloud SDK\\nPython 3 (installed with Anaconda)\\nTerraform\\nGit\\nLook over the prerequisites and syllabus to see if you are comfortable with these subjects.',\n",
    "  'section': 'General course-related questions',\n",
    "  'question': 'Course - What can I do before the course starts?',\n",
    "  'course': 'data-engineering-zoomcamp'},\n",
    " {'text': 'Star the repo! Share it with friends if you find it useful ❣️\\nCreate a PR if you see you can improve the text or the structure of the repository.',\n",
    "  'section': 'General course-related questions',\n",
    "  'question': 'How can we contribute to the course?',\n",
    "  'course': 'data-engineering-zoomcamp'}]"
   ]
  },
  {
   "cell_type": "code",
   "execution_count": 6,
   "id": "45fb0fe3",
   "metadata": {},
   "outputs": [
    {
     "name": "stdout",
     "output_type": "stream",
     "text": [
      "[1.0, 1.0, 1.0, 1.0, 1.0]\n"
     ]
    },
    {
     "data": {
      "text/plain": [
       "{3: 0.7133078832064157,\n",
       " 4: 0.7304499196411822,\n",
       " 0: 0.7629684518721929,\n",
       " 2: 0.8085397445747489,\n",
       " 1: 0.8182378156620137}"
      ]
     },
     "execution_count": 6,
     "metadata": {},
     "output_type": "execute_result"
    }
   ],
   "source": [
    "emb_docs = embedding_model.embed([doc['text'] for doc in documents])\n",
    "emb_matrix = np.array(list(emb_docs))\n",
    "print([np.linalg.norm(v) for v in emb_matrix])\n",
    "cos_sims = emb_matrix @ emb_query\n",
    "dists = {i:cos_sims[i] for i in range(len(cos_sims))}\n",
    "dists_sorted = dict(sorted(dists.items(), key=lambda x: x[1]))\n",
    "dists_sorted"
   ]
  },
  {
   "cell_type": "markdown",
   "id": "5816155f",
   "metadata": {},
   "source": [
    "## Q4. Ranking by cosine, version two\n",
    "\n",
    "Now let's calculate a new field, which is a concatenation of `question` and `text`:\n",
    "\n",
    "`full_text = doc['question'] + ' ' + doc['text']`\n",
    "\n",
    "Embed this field and compute the cosine between it and the query vector. What's the highest scoring document?"
   ]
  },
  {
   "cell_type": "code",
   "execution_count": 7,
   "id": "7afc4964",
   "metadata": {},
   "outputs": [
    {
     "data": {
      "text/plain": [
       "[\"Course - Can I still join the course after the start date? Yes, even if you don't register, you're still eligible to submit the homeworks.\\nBe aware, however, that there will be deadlines for turning in the final projects. So don't leave everything for the last minute.\",\n",
       " 'Course - Can I follow the course after it finishes? Yes, we will keep all the materials after the course finishes, so you can follow the course at your own pace after it finishes.\\nYou can also continue looking at the homeworks and continue preparing for the next cohort. I guess you can also start working on your final capstone project.',\n",
       " \"Course - When will the course start? The purpose of this document is to capture frequently asked technical questions\\nThe exact day and hour of the course will be 15th Jan 2024 at 17h00. The course will start with the first  “Office Hours'' live.1\\nSubscribe to course public Google Calendar (it works from Desktop only).\\nRegister before the course starts using this link.\\nJoin the course Telegram channel with announcements.\\nDon’t forget to register in DataTalks.Club's Slack and join the channel.\",\n",
       " 'Course - What can I do before the course starts? You can start by installing and setting up all the dependencies and requirements:\\nGoogle cloud account\\nGoogle Cloud SDK\\nPython 3 (installed with Anaconda)\\nTerraform\\nGit\\nLook over the prerequisites and syllabus to see if you are comfortable with these subjects.',\n",
       " 'How can we contribute to the course? Star the repo! Share it with friends if you find it useful ❣️\\nCreate a PR if you see you can improve the text or the structure of the repository.']"
      ]
     },
     "execution_count": 7,
     "metadata": {},
     "output_type": "execute_result"
    }
   ],
   "source": [
    "documents_full = [doc['question'] + ' ' + doc['text'] for doc in documents]\n",
    "documents_full"
   ]
  },
  {
   "cell_type": "code",
   "execution_count": 8,
   "id": "8ac62aed",
   "metadata": {},
   "outputs": [
    {
     "name": "stdout",
     "output_type": "stream",
     "text": [
      "[0.9999999999999999, 0.9999999999999999, 1.0, 0.9999999999999999, 0.9999999999999999]\n"
     ]
    },
    {
     "data": {
      "text/plain": [
       "{3: 0.7755157657626952,\n",
       " 4: 0.8086007917931164,\n",
       " 2: 0.8408287224005013,\n",
       " 1: 0.8436594005975434,\n",
       " 0: 0.8514543194432261}"
      ]
     },
     "execution_count": 8,
     "metadata": {},
     "output_type": "execute_result"
    }
   ],
   "source": [
    "emb_docs = embedding_model.embed(documents_full)\n",
    "emb_matrix = np.array(list(emb_docs))\n",
    "print([np.linalg.norm(v) for v in emb_matrix])\n",
    "cos_sims = emb_matrix @ emb_query\n",
    "dists = {i:cos_sims[i] for i in range(len(cos_sims))}\n",
    "dists_sorted = dict(sorted(dists.items(), key=lambda x: x[1]))\n",
    "dists_sorted"
   ]
  },
  {
   "cell_type": "markdown",
   "id": "82e794ee",
   "metadata": {},
   "source": [
    "## Q5. Selecting the embedding model\n",
    "Now let's select a smaller embedding model. What's the smallest dimensionality for models in fastembed?"
   ]
  },
  {
   "cell_type": "code",
   "execution_count": 9,
   "id": "90adf8fa",
   "metadata": {},
   "outputs": [
    {
     "data": {
      "text/plain": [
       "384"
      ]
     },
     "execution_count": 9,
     "metadata": {},
     "output_type": "execute_result"
    }
   ],
   "source": [
    "min_dim = min([model['dim'] for model in TextEmbedding.list_supported_models()])\n",
    "min_dim\n"
   ]
  },
  {
   "cell_type": "code",
   "execution_count": 10,
   "id": "66ef42ab",
   "metadata": {},
   "outputs": [
    {
     "name": "stdout",
     "output_type": "stream",
     "text": [
      "\"BAAI/bge-small-en\"\n",
      "\"BAAI/bge-small-en-v1.5\"\n",
      "\"snowflake/snowflake-arctic-embed-xs\"\n",
      "\"snowflake/snowflake-arctic-embed-s\"\n",
      "\"sentence-transformers/all-MiniLM-L6-v2\"\n",
      "\"sentence-transformers/paraphrase-multilingual-MiniLM-L12-v2\"\n"
     ]
    }
   ],
   "source": [
    "import json\n",
    "\n",
    "for model in TextEmbedding.list_supported_models():\n",
    "    if model[\"dim\"] == min_dim:\n",
    "        print(json.dumps(model['model'], indent=2))\n"
   ]
  },
  {
   "cell_type": "markdown",
   "id": "bd1c5cc8",
   "metadata": {},
   "source": [
    "## Q6. Indexing with qdrant\n",
    "\n",
    "For the last question, we will use more documents.\n",
    "\n",
    "We will select only FAQ records from our ml zoomcamp"
   ]
  },
  {
   "cell_type": "code",
   "execution_count": 11,
   "id": "b2f50337",
   "metadata": {},
   "outputs": [],
   "source": [
    "import requests \n",
    "\n",
    "docs_url = 'https://github.com/alexeygrigorev/llm-rag-workshop/raw/main/notebooks/documents.json'\n",
    "docs_response = requests.get(docs_url)\n",
    "documents_raw = docs_response.json()\n",
    "\n",
    "documents = []\n",
    "\n",
    "for course in documents_raw:\n",
    "    course_name = course['course']\n",
    "    if course_name != 'machine-learning-zoomcamp':\n",
    "        continue\n",
    "\n",
    "    for doc in course['documents']:\n",
    "        doc['course'] = course_name\n",
    "        documents.append(doc)"
   ]
  },
  {
   "cell_type": "markdown",
   "id": "cfcfc9d9",
   "metadata": {},
   "source": [
    "Add them to qdrant using the model form Q5.\n",
    "\n",
    "When adding the data, use both question and answer fields:"
   ]
  },
  {
   "cell_type": "code",
   "execution_count": 12,
   "id": "068f13ef",
   "metadata": {},
   "outputs": [],
   "source": [
    "# !sudo docker run --rm -p 6333:6333 -p 6334:6334    -v \"$(pwd)/qdrant_storage:/qdrant/storage:z\"    qdrant/qdrant"
   ]
  },
  {
   "cell_type": "code",
   "execution_count": 13,
   "id": "bad8da3c",
   "metadata": {},
   "outputs": [
    {
     "data": {
      "text/plain": [
       "UpdateResult(operation_id=0, status=<UpdateStatus.COMPLETED: 'completed'>)"
      ]
     },
     "execution_count": 13,
     "metadata": {},
     "output_type": "execute_result"
    }
   ],
   "source": [
    "from qdrant_client import QdrantClient, models\n",
    "\n",
    "client = QdrantClient(\"http://localhost:6333\") \n",
    "collection_name = \"collection_1\"\n",
    "\n",
    "client.create_collection(\n",
    "    collection_name=collection_name,\n",
    "    vectors_config=models.VectorParams(\n",
    "        size=min_dim,  \n",
    "        distance=models.Distance.COSINE  \n",
    "    )\n",
    ")\n",
    "\n",
    "points = []\n",
    "id = 0\n",
    "\n",
    "model_small = \"BAAI/bge-small-en\"\n",
    "\n",
    "for doc in documents:\n",
    "   point = models.PointStruct(\n",
    "      id=id,\n",
    "      vector=models.Document(text=doc['question'] + ' ' + doc['text'], model=model_small), \n",
    "      payload={\n",
    "            \"text\": doc['text'],\n",
    "            \"section\": doc['section'],\n",
    "            \"course\": doc['course'],\n",
    "            \n",
    "      } #save all needed metadata fields\n",
    "   )\n",
    "   points.append(point)\n",
    "\n",
    "   id += 1\n",
    "\n",
    "\n",
    "client.upsert(\n",
    "    collection_name=collection_name,\n",
    "    points=points\n",
    ")\n"
   ]
  },
  {
   "cell_type": "markdown",
   "id": "7a5424f7",
   "metadata": {},
   "source": [
    "After the data is inserted, use the question from Q1 for querying the collection.\n",
    "\n",
    "What's the highest score in the results? (The score for the first returned record)"
   ]
  },
  {
   "cell_type": "code",
   "execution_count": 14,
   "id": "567af278",
   "metadata": {},
   "outputs": [
    {
     "name": "stdout",
     "output_type": "stream",
     "text": [
      "Max. score: 0.87\n"
     ]
    }
   ],
   "source": [
    "results = client.query_points(\n",
    "    collection_name=collection_name,\n",
    "    query=models.Document( \n",
    "        text=query,\n",
    "        model=model_small \n",
    "    ),\n",
    "    limit=1,\n",
    "    with_payload=True \n",
    ")\n",
    "\n",
    "print(f'Max. score: {round(results.points[0].score, 2)}')"
   ]
  },
  {
   "cell_type": "code",
   "execution_count": null,
   "id": "a8499464",
   "metadata": {},
   "outputs": [],
   "source": []
  },
  {
   "cell_type": "code",
   "execution_count": null,
   "id": "5134572b",
   "metadata": {},
   "outputs": [],
   "source": []
  },
  {
   "cell_type": "code",
   "execution_count": null,
   "id": "e4226e50",
   "metadata": {},
   "outputs": [],
   "source": []
  }
 ],
 "metadata": {
  "kernelspec": {
   "display_name": "base",
   "language": "python",
   "name": "python3"
  },
  "language_info": {
   "codemirror_mode": {
    "name": "ipython",
    "version": 3
   },
   "file_extension": ".py",
   "mimetype": "text/x-python",
   "name": "python",
   "nbconvert_exporter": "python",
   "pygments_lexer": "ipython3",
   "version": "3.12.7"
  }
 },
 "nbformat": 4,
 "nbformat_minor": 5
}
