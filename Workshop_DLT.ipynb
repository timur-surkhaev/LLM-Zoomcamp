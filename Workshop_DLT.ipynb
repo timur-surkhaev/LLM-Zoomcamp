{
 "cells": [
  {
   "cell_type": "markdown",
   "id": "4d35fa06",
   "metadata": {},
   "source": [
    "# Homework DLT"
   ]
  },
  {
   "cell_type": "markdown",
   "id": "e44c8b54",
   "metadata": {},
   "source": [
    "## Question 1. dlt Version"
   ]
  },
  {
   "cell_type": "markdown",
   "id": "2d22ed7f",
   "metadata": {},
   "source": [
    "In this homework, we will load the data from our FAQ to Qdrant\n",
    "\n",
    "Let's install dlt with Qdrant support and Qdrant client"
   ]
  },
  {
   "cell_type": "code",
   "execution_count": 1,
   "id": "44b26e7a",
   "metadata": {},
   "outputs": [],
   "source": [
    "# !pip install -q \"dlt[qdrant]\" \"qdrant-client[fastembed]\""
   ]
  },
  {
   "cell_type": "markdown",
   "id": "6239506c",
   "metadata": {},
   "source": [
    "What's the version of dlt that you installed?"
   ]
  },
  {
   "cell_type": "code",
   "execution_count": 2,
   "id": "0bd682b3",
   "metadata": {},
   "outputs": [
    {
     "data": {
      "text/plain": [
       "'1.13.0'"
      ]
     },
     "execution_count": 2,
     "metadata": {},
     "output_type": "execute_result"
    }
   ],
   "source": [
    "import dlt\n",
    "import requests\n",
    "dlt.__version__"
   ]
  },
  {
   "cell_type": "code",
   "execution_count": 3,
   "id": "d3e88734",
   "metadata": {},
   "outputs": [],
   "source": [
    "@dlt.resource\n",
    "def zoomcamp_data():\n",
    "    docs_url = 'https://github.com/alexeygrigorev/llm-rag-workshop/raw/main/notebooks/documents.json'\n",
    "    docs_response = requests.get(docs_url)\n",
    "    documents_raw = docs_response.json()\n",
    "\n",
    "    for course in documents_raw:\n",
    "        course_name = course['course']\n",
    "\n",
    "        for doc in course['documents']:\n",
    "            doc['course'] = course_name\n",
    "            yield doc"
   ]
  },
  {
   "cell_type": "markdown",
   "id": "ec4e5d00",
   "metadata": {},
   "source": [
    "## Question 2. dlt pipeline\n",
    "\n",
    "Now let's create a pipeline\n",
    "\n",
    "How many rows were inserted into the zoomcamp_data collection?"
   ]
  },
  {
   "cell_type": "code",
   "execution_count": 4,
   "id": "8d1a1b09",
   "metadata": {},
   "outputs": [],
   "source": [
    "from dlt.destinations import qdrant\n",
    "\n",
    "qdrant_destination = qdrant(\n",
    "  qd_path=\"db.qdrant\", \n",
    ")"
   ]
  },
  {
   "cell_type": "code",
   "execution_count": 5,
   "id": "ac7ff9f2",
   "metadata": {},
   "outputs": [
    {
     "name": "stdout",
     "output_type": "stream",
     "text": [
      "Run started at 2025-07-09 15:54:42.134309+00:00 and COMPLETED in 15.17 seconds with 4 steps.\n",
      "Step extract COMPLETED in 1.42 seconds.\n",
      "\n",
      "Load package 1752076487.6334708 is EXTRACTED and NOT YET LOADED to the destination and contains no failed jobs\n",
      "\n",
      "Step normalize COMPLETED in 0.08 seconds.\n",
      "Normalized data for the following tables:\n",
      "- zoomcamp_data: 948 row(s)\n",
      "\n",
      "Load package 1752076487.6334708 is NORMALIZED and NOT YET LOADED to the destination and contains no failed jobs\n",
      "\n",
      "Step load COMPLETED in 8.18 seconds.\n",
      "Pipeline zoomcamp_pipeline load step completed in 8.16 seconds\n",
      "1 load package(s) were loaded to destination qdrant and into dataset zoomcamp_tagged_data\n",
      "The qdrant destination used /home/timur/All/Projects/CoursesAndEducation/LLM Zoomcamp/LLM Zoomcamp HW/LLM-Zoomcamp/db.qdrant location to store data\n",
      "Load package 1752076487.6334708 is LOADED and contains no failed jobs\n",
      "\n",
      "Step run COMPLETED in 15.17 seconds.\n",
      "Pipeline zoomcamp_pipeline load step completed in 8.16 seconds\n",
      "1 load package(s) were loaded to destination qdrant and into dataset zoomcamp_tagged_data\n",
      "The qdrant destination used /home/timur/All/Projects/CoursesAndEducation/LLM Zoomcamp/LLM Zoomcamp HW/LLM-Zoomcamp/db.qdrant location to store data\n",
      "Load package 1752076487.6334708 is LOADED and contains no failed jobs\n"
     ]
    }
   ],
   "source": [
    "pipeline = dlt.pipeline(\n",
    "    pipeline_name=\"zoomcamp_pipeline\",\n",
    "    destination=qdrant_destination,\n",
    "    dataset_name=\"zoomcamp_tagged_data\"\n",
    "\n",
    ")\n",
    "load_info = pipeline.run(zoomcamp_data())\n",
    "print(pipeline.last_trace)"
   ]
  },
  {
   "cell_type": "markdown",
   "id": "73721827",
   "metadata": {},
   "source": [
    "## Question 3. Embeddings\n",
    "\n",
    "When inserting the data, an embedding model was used. Which one?"
   ]
  },
  {
   "cell_type": "code",
   "execution_count": 6,
   "id": "7c3236db",
   "metadata": {},
   "outputs": [
    {
     "name": "stdout",
     "output_type": "stream",
     "text": [
      "fast-bge-small-en\n",
      "fast-bge-small-en\n",
      "fast-bge-small-en\n",
      "fast-bge-small-en\n",
      "fast-bge-small-en\n"
     ]
    }
   ],
   "source": [
    "import json\n",
    "\n",
    "with open('./db.qdrant/meta.json', 'r') as jf:\n",
    "    meta_json = json.load(jf)\n",
    "\n",
    "    for c in meta_json['collections'].items():\n",
    "        print(list(c[1]['vectors'].keys())[0])"
   ]
  },
  {
   "cell_type": "code",
   "execution_count": null,
   "id": "3feef2c8",
   "metadata": {},
   "outputs": [],
   "source": []
  },
  {
   "cell_type": "code",
   "execution_count": null,
   "id": "6c98cb79",
   "metadata": {},
   "outputs": [],
   "source": []
  }
 ],
 "metadata": {
  "kernelspec": {
   "display_name": "base",
   "language": "python",
   "name": "python3"
  },
  "language_info": {
   "codemirror_mode": {
    "name": "ipython",
    "version": 3
   },
   "file_extension": ".py",
   "mimetype": "text/x-python",
   "name": "python",
   "nbconvert_exporter": "python",
   "pygments_lexer": "ipython3",
   "version": "3.12.7"
  }
 },
 "nbformat": 4,
 "nbformat_minor": 5
}
